{
 "cells": [
  {
   "attachments": {},
   "cell_type": "markdown",
   "metadata": {},
   "source": [
    "**New distributed learning rule**\n",
    "Each agent has 2 sets of belief vectors:\n",
    "- Local belief vector\n",
    "    - Updated in a Bayesian manner based on only private observations (no neighbor influence)\n",
    "- Actual belief vector\n",
    "    - Updated as a minimum of the agent's own local belief and the actual beliefs of its neighbors on that particular hypothesis\n",
    "\n",
    "**Strict improvement in Rate of Learning**\n",
    "- The proposition rejects every false hypothesis agent exponentially fast\n",
    "- Rate lower bounded by the best relative entropy (between true state and false hypothesis) among all agents\n",
    "- Network must be static and strongly connected\n",
    "\n",
    "**Resilience to Adversaries**\n",
    "- Provably correct resilient version of proposed learning rule\n",
    "- Each regular agent can infer the truth exponentially fast"
   ]
  },
  {
   "attachments": {},
   "cell_type": "markdown",
   "metadata": {},
   "source": [
    "**Model and Problem Formulation**\n",
    "- Group of agents $V = \\{1, 2, ..., n\\}$\n",
    "- $G(t) = (V, E(t))$ is a time-varying directed communication graph, $t \\in \\mathbb{N}$\n",
    "- Edge $(i, j) \\in E(t)$ means $i$ can directly transmit information to agent $j$ at time step $t$\n",
    "    - $(i, j) \\in E(t)$ means $i$ is in-neighbor of $j$, and $j$ is out-neighbor of $i$\n",
    "    - $N_i^{in}(t)$ = set of in-neighbors of $i$, $N_i^{in}(t) \\cup \\{i\\}$ = inclusive neighborhood of $i$\n",
    "    - $|C|$ = set size\n",
    "- $\\Theta = \\{{\\theta}_1, {\\theta}_2, ..., {\\theta}_m\\}$ = $m$ possible states of the world, each ${\\theta}_i \\in \\Theta$ is a hypothesis\n",
    "- At each time-step $t$, every agent $i \\in V$ observers a signal $s_{i,t} \\in S_i$, where $S_i$ is the signal space of agent $i$\n",
    "- The joint observation profile is then $s_t = (s_{1,t}, s_{2,t}, ..., s_{n,t})$, where $s_t \\in S$, and $S = S_1 \\times S_2 \\times ... \\times S_n$\n",
    "- $s_t$ is generated based on a conditional likelihood function $l(\\cdot|{\\theta}^*)$, where ${\\theta}^* \\in \\Theta$ is the true state of the world\n",
    "- $l_i(\\cdot|{\\theta}^*), i \\in V$ is the $i$-th marginal of $l(\\cdot|{\\theta}^*)$ (so $l(\\cdot|{\\theta}^*)$ integrated over all signals other than $i$-th)\n",
    "- The signal structure of each agent $i$ is then characterized by the marginals: $\\{l_i(\\omega _i|{\\theta}^*):\\theta \\in \\Theta, \\omega _i \\in S_i\\}$\n",
    "\n",
    "Standard Assumptions:\n"
   ]
  },
  {
   "attachments": {},
   "cell_type": "markdown",
   "metadata": {},
   "source": []
  }
 ],
 "metadata": {
  "language_info": {
   "name": "python"
  },
  "orig_nbformat": 4
 },
 "nbformat": 4,
 "nbformat_minor": 2
}
