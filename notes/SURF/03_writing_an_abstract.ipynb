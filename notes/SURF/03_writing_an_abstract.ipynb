{
 "cells": [
  {
   "attachments": {},
   "cell_type": "markdown",
   "metadata": {},
   "source": [
    "**Writing an abstract**"
   ]
  },
  {
   "attachments": {},
   "cell_type": "markdown",
   "metadata": {},
   "source": [
    "Consider:\n",
    "- Purspose of the abstract -> abstract is for the reader to decide if they want to read the rest\n",
    "- Who are the readers -> what do they already know?\n",
    "- One sided, two-way conversation\n",
    "    - Anticipate reader's questions and try to answer them\n",
    "\n",
    "Typical research abstract has 5 parts:\n",
    "1. Motivation:\n",
    "    - What motivated the reasearch\n",
    "    - Describe the context of the research, what was happening at the time, what was known/not known\n",
    "    - What is the need of society\n",
    "    - After previous research, what is still unknown\n",
    "    - Why is your research important\n",
    "2. Problem statement (Purpose):\n",
    "    - What problem did you solve\n",
    "    - What hypothesis did you test, or a theory\n",
    "    - What research question did you answer\n",
    "3. Methods\n",
    "    - What data we collected, how we analyzed the data\n",
    "    - Most technical part of the abstract\n",
    "4. Key Results\n",
    "    - What did you find? (Be selective)\n",
    "5. Conclusion\n",
    "    - Why are these results significant, how they might apply to engineering problems and problems in society\n",
    "    - Implications for future research"
   ]
  },
  {
   "attachments": {},
   "cell_type": "markdown",
   "metadata": {},
   "source": [
    "More info:\n",
    "- 150-250 words\n",
    "- No citations, no references\n",
    "- What if no results yet? -> Write a descriptive abstract\n",
    "    - Describe what they will look like\n",
    "    - The rest is the same\n",
    "- Extended abstract (500 to 1000 words)\n",
    "- May include citations and references\n",
    "\n",
    "\n",
    "Research mistakes:\n",
    "- Not a good motivation for a problem\n",
    "- Methods not strong enough\n",
    "- Validity of the methods\n",
    "- Misinterpreting the results\n",
    "- Overinterpreting the results\n",
    "- Problem wasn't important enough\n"
   ]
  },
  {
   "attachments": {},
   "cell_type": "markdown",
   "metadata": {},
   "source": []
  }
 ],
 "metadata": {
  "language_info": {
   "name": "python"
  },
  "orig_nbformat": 4
 },
 "nbformat": 4,
 "nbformat_minor": 2
}
