{
 "cells": [
  {
   "attachments": {},
   "cell_type": "markdown",
   "metadata": {},
   "source": [
    "$x_i^{(t + 1)} = \\underset{j \\in N_i^{in} \\cup {i}}{\\sum}\\frac{x_j^{(t)}}{|N_i^{in}|} = $\n",
    "\n",
    "$A = adj(G)$"
   ]
  },
  {
   "attachments": {},
   "cell_type": "markdown",
   "metadata": {},
   "source": []
  }
 ],
 "metadata": {
  "language_info": {
   "name": "python"
  },
  "orig_nbformat": 4
 },
 "nbformat": 4,
 "nbformat_minor": 2
}
