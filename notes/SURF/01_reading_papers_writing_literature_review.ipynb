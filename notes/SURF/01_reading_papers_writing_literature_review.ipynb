{
 "cells": [
  {
   "attachments": {},
   "cell_type": "markdown",
   "metadata": {},
   "source": [
    "**Reading Papers and Writing A Literature Review**"
   ]
  },
  {
   "attachments": {},
   "cell_type": "markdown",
   "metadata": {},
   "source": [
    "Overview:\n",
    "- Purpose of literature review\n",
    "- Where to beign\n",
    "- How to read papers and manage references\n",
    "- Writing - Things to Remember"
   ]
  },
  {
   "attachments": {},
   "cell_type": "markdown",
   "metadata": {},
   "source": [
    "**Purpose of Literature Review**\n",
    "- To be introduced to the domain\n",
    "- To understand gaps in the scientific literature, identify problems worth solving\n",
    "- To avoid reinventing the wheel\n",
    "- To demonstrate membership of the field\n",
    "- Need to know what exists before inventing something new"
   ]
  },
  {
   "attachments": {},
   "cell_type": "markdown",
   "metadata": {},
   "source": [
    "**Where to Begin**\n",
    "- Ask Lab mentors\n",
    "    - Ask for key (peer-reviewed) papers to learn about the topic\n",
    "    - Good practice to investigate the cited work\n",
    "    - Familiarize with common authors\n",
    "- Use relevant search engines\n",
    "    - Google Scholar\n",
    "    - Web of Science\n",
    "    - Field Specific Engines\n",
    "    - Purdue Library\n",
    "- Know the common journals and conferences in your field\n",
    "    - AAAI\n",
    "    - ICLR\n",
    "    - ICML\n",
    "    - InfoComm\n",
    "    - NeurIps\n",
    "- Use keywords and search strings\n",
    "    - Use boolean operators\n",
    "    - Connected papers -> references in certain papers\n",
    "        - A few papers that have highly overlapping citations and references\n",
    "        - Narrow down to 4/5 papers\n",
    "    - Up and down reference search\n",
    "        - What this paper cited\n",
    "        - What cited this paper\n",
    "    - Read review papers"
   ]
  },
  {
   "attachments": {},
   "cell_type": "markdown",
   "metadata": {},
   "source": [
    "**How to read papers and manage references**\n",
    "- Typical structure of a paper: 6 setions:\n",
    "    - Abstract\n",
    "    - Introduction\n",
    "    - Methods\n",
    "    - Results\n",
    "    - Discussion\n",
    "    - References\n",
    "- How to read:\n",
    "    - Abstract -> Conclusion -> Introduction -> Results -> Discussion -> Methods -> References\n",
    "- The Three-Pass Approach\n",
    "    1. Pass 1: Get a general idea of the paper\n",
    "        - Focus on Abstract + Intro + Disussion + References\n",
    "        - What type of a paper it is?\n",
    "        - What are other papers related to it?\n",
    "        - Are the assumptions valid?\n",
    "        - What are the paper's main contributions?\n",
    "        - Is the paper well written?\n",
    "    2. Pass 2: Grasp the content of the paper\n",
    "        - Dive into methods and results\n",
    "        - Look into figures\n",
    "    3. Is the content clear?\n",
    "        - Understand the paper in depth\n",
    "    4a. No\n",
    "        - \n",
    "    4b. Yes\n",
    "        - Try to virtually reimplement the paper\n",
    "        - Requires great attention to detail\n",
    "        - Identify a paper's innovations and also hidden failings\n",
    "        - Requires great attention to detail\n",
    "        - Requires a lot of time and effort\n",
    "        - At the end, should be able to reconstruct the paper\n",
    "\n",
    "- Taking notes while reading a paper:\n",
    "    - Jot down your own ideas for future work\n",
    "    - Write down the questions\n",
    "    - Mark relevant text passages\n",
    "    - Helpful to get a quick overview later\n",
    "    - \n",
    "- Managing References:\n",
    "    - Using a software to manage references can save you a lot of time\n",
    "        - Overleaf\n",
    "        - EndNote\n",
    "        - Mendeley\n",
    "            - Free reference manager\n",
    "            - Store, organize, share, and cite the references\n",
    "            - Make notes or annotate as you read\n",
    "            - Extension in Word\n",
    "        - JapRef\n",
    "        - RefDB\n",
    "        - Zotero"
   ]
  },
  {
   "attachments": {},
   "cell_type": "markdown",
   "metadata": {},
   "source": [
    "**Writing a Literature Review Section**\n",
    "\n",
    "Outline:\n",
    "- Overview/Background\n",
    "    - Introduce the topic\n",
    "    - State what will be explored\n",
    "- Body: Tell the story of the previous work:\n",
    "    - TODO\n",
    "- Conclusion\n",
    "    - Summarize importance of the conducted research\n",
    "\n",
    "Clarity: Writing for Comprehension:\n",
    "- Is your subject clear\n",
    "\n",
    "Things to avoid:\n",
    "- Avoid including all papers in your paper\n",
    "    - Limit papers stick to what is most relevant to your study\n",
    "- Avoid explain everything in the papers\n",
    "    - No need to explaining every part\n",
    "- Avoid using variations of techinical terms\n",
    "    - Use the same technical terms throught the same paper\n",
    "\n",
    "- Purdue Writing Lab"
   ]
  }
 ],
 "metadata": {
  "language_info": {
   "name": "python"
  },
  "orig_nbformat": 4
 },
 "nbformat": 4,
 "nbformat_minor": 2
}
